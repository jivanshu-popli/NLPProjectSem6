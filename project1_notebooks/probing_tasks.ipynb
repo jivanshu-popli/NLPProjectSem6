{
 "cells": [
  {
   "cell_type": "code",
   "execution_count": null,
   "metadata": {},
   "outputs": [],
   "source": [
    "from os import path\n",
    "import pandas as pd\n",
    "import numpy as np\n",
    "import matplotlib.pyplot as plt\n",
    "from sklearn.ensemble import RandomForestClassifier\n",
    "from sklearn.metrics import accuracy_score\n",
    "from xgboost import XGBClassifier\n",
    "from sklearn import preprocessing\n",
    "from sklearn.linear_model import LogisticRegression\n",
    "from sklearn.model_selection import train_test_split\n",
    "import seaborn as sns"
   ]
  },
  {
   "cell_type": "code",
   "execution_count": 3,
   "metadata": {},
   "outputs": [],
   "source": [
    "# setting path\n",
    "import os, sys\n",
    "current_dir = os.path.abspath('')\n",
    "parent_dir = os.path.dirname(current_dir)\n",
    "sys.path.append(parent_dir)"
   ]
  },
  {
   "cell_type": "code",
   "execution_count": null,
   "metadata": {},
   "outputs": [],
   "source": [
    "from config import SIMILARITY_PATH, EMBEDDING_PATH, PRETRAIN_OUTPUT_PATH\n",
    "from source.emb_extr_res.emb_extr_res import get_embeddings_df, get_pairs_similarity_df, get_pretrain_agg_similarity\n",
    "from source.load_data.wdc.load_wdc_dataset import EnglishDatasetLoader\n",
    "from source.probing.brand_names import prepare_brands_list, brands_in_title_check, prepare_new_dataset, drop_brands\n",
    "from source.probing.length import prepare_probing_len\n",
    "from source.probing.words import words_in_title_check"
   ]
  },
  {
   "cell_type": "code",
   "execution_count": null,
   "metadata": {},
   "outputs": [],
   "source": [
    "# paths to results\n",
    "test_embeddings_path = path.join(EMBEDDING_PATH, r'test_embeddings.csv')\n",
    "train_embeddings_path = path.join(EMBEDDING_PATH, r'train_embeddings.csv')\n",
    "\n",
    "test_similarity_path = path.join(SIMILARITY_PATH, 'test_similarity.csv')\n",
    "train_similarity_path = path.join(SIMILARITY_PATH, 'train_similarity.csv')\n",
    "\n",
    "pretraining_output_path = path.join(PRETRAIN_OUTPUT_PATH, 'similarity_evaluation_test_evaluation_results.csv')\n",
    "\n",
    "dataset_type = \"cameras\"\n",
    "dataset_size = \"medium\""
   ]
  },
  {
   "cell_type": "code",
   "execution_count": null,
   "metadata": {},
   "outputs": [],
   "source": [
    "embedding_train_df = get_embeddings_df(train_embeddings_path)\n",
    "embedding_train_df"
   ]
  },
  {
   "cell_type": "code",
   "execution_count": null,
   "metadata": {},
   "outputs": [],
   "source": [
    "train_df = EnglishDatasetLoader.load_train(dataset_type, dataset_size)"
   ]
  },
  {
   "cell_type": "code",
   "execution_count": null,
   "metadata": {},
   "outputs": [],
   "source": [
    "brands_to_drop = [',', 'd','memory',  'photo', 'co', 'usa',  'power',  'digital', 'camera', 'cam',  'hd',  'a',  'inc',  'le',  'film',  'case',  'pro', 'cameras']\n",
    "brands = prepare_brands_list(train_df, brands_to_drop)"
   ]
  },
  {
   "cell_type": "code",
   "execution_count": null,
   "metadata": {},
   "outputs": [],
   "source": [
    "train_df_left = train_df[[\"id_left\", \"title_left\"]]\n",
    "train_df_right = train_df[[\"id_right\", \"title_right\"]]\n",
    "train_df_left = train_df_left.drop_duplicates().rename({\"id_left\" : \"id\", \"title_left\" : \"title\"}, axis = 'columns')\n",
    "train_df_right = train_df_right.drop_duplicates().rename({\"id_right\" : \"id\", \"title_right\" : \"title\"}, axis = 'columns')\n",
    "df_train_all = pd.concat([train_df_right, train_df_left])\n",
    "df_train_titles = df_train_all.groupby(\"id\").first().reset_index()\n"
   ]
  },
  {
   "cell_type": "code",
   "execution_count": null,
   "metadata": {},
   "outputs": [],
   "source": [
    "probing_df_chars, probing_df_words = prepare_probing_len(df_train_titles, train_embeddings_path)"
   ]
  },
  {
   "cell_type": "code",
   "execution_count": null,
   "metadata": {},
   "outputs": [],
   "source": [
    "# probing_df_words.to_csv(r'probing_tasks\\dataset\\probing_df_words.csv')\n",
    "# probing_df_chars.to_csv(r'probing_tasks\\dataset\\probing_df_chars.csv')"
   ]
  },
  {
   "cell_type": "code",
   "execution_count": null,
   "metadata": {},
   "outputs": [],
   "source": [
    "new_dataset, ids_removed_brands = prepare_new_dataset(train_df, brands)\n",
    "\n",
    "probing_task_df = new_dataset[new_dataset[\"changed\"] == True].drop(\"changed\", axis=1)\n",
    "# probing_task_df.to_csv(\"datasets/df_removed_brands1.csv\", index=False)"
   ]
  },
  {
   "cell_type": "code",
   "execution_count": null,
   "metadata": {},
   "outputs": [],
   "source": [
    "key_words = ['camera', 'digital', 'len']\n",
    "df_words = words_in_title_check(train_df, key_words)"
   ]
  },
  {
   "cell_type": "code",
   "execution_count": null,
   "metadata": {},
   "outputs": [],
   "source": [
    "embedding_train_df_all = get_embeddings_df(train_embeddings_path)\n",
    "\n",
    "probing_df_key_words = pd.merge(df_words[[\"id\", \"brand_in_title\" ]], embedding_train_df_all, left_on = \"id\", right_on = 'id')\n",
    "probing_df_key_words = probing_df_key_words.rename({\"brand_in_title\" : \"label\"}, axis=1)\n",
    "probing_df_key_words = probing_df_key_words.drop(\"id\", axis=1)"
   ]
  },
  {
   "cell_type": "code",
   "execution_count": null,
   "metadata": {},
   "outputs": [],
   "source": [
    "# probing_df_key_words.to_csv(r'probing_tasks\\dataset\\probing_df_key_words.csv', index=False)"
   ]
  },
  {
   "cell_type": "code",
   "execution_count": null,
   "metadata": {},
   "outputs": [],
   "source": [
    "brands_in_title_df = brands_in_title_check(new_dataset, brands)\n",
    "deleted_ids = brands_in_title_df[brands_in_title_df[\"brand_in_title\"]==True][\"id\"].values\n",
    "\n",
    "embedding_train_df = get_embeddings_df(path.join(EMBEDDING_PATH, r'train_embeddings_removed_brands1.csv'))\n",
    "embedding_train_df_all = get_embeddings_df(train_embeddings_path)\n",
    "\n",
    "new_emb = embedding_train_df_all[~embedding_train_df_all[\"id\"].isin(ids_removed_brands)] \n",
    "new_emb1 = embedding_train_df[embedding_train_df[\"id\"].isin(ids_removed_brands)]\n",
    "new = pd.concat([new_emb1, new_emb])\n",
    "new[\"label\"] = new[\"id\"].isin(deleted_ids)\n",
    "\n"
   ]
  },
  {
   "cell_type": "code",
   "execution_count": null,
   "metadata": {},
   "outputs": [],
   "source": [
    "# new.to_csv(r'probing_tasks\\dataset\\train_brand_names.csv', index=False)"
   ]
  },
  {
   "cell_type": "markdown",
   "metadata": {},
   "source": [
    "# sentence length"
   ]
  },
  {
   "cell_type": "code",
   "execution_count": null,
   "metadata": {},
   "outputs": [],
   "source": [
    "probing_df_words = pd.read_csv(r'probing_tasks\\dataset\\probing_df_words.csv')\n",
    "probing_df_words = probing_df_words.drop([\"Unnamed: 0\", \"id\"], axis=1)"
   ]
  },
  {
   "cell_type": "code",
   "execution_count": null,
   "metadata": {},
   "outputs": [],
   "source": [
    "probing_df_words_X, probing_df_words_y = probing_df_words.drop([\"label\"], axis=1), probing_df_words[\"label\"]\n",
    "X_train, X_test, y_train, y_test = train_test_split(probing_df_words_X, probing_df_words_y, test_size=0.15)"
   ]
  },
  {
   "cell_type": "code",
   "execution_count": null,
   "metadata": {},
   "outputs": [],
   "source": [
    "clf = LogisticRegression(multi_class=\"multinomial\", random_state=42, penalty = 'l1', solver=\"saga\")\n",
    "\n",
    "clf.fit(X_train, y_train)\n",
    "predictions = clf.predict(X_test)\n",
    "accuracy_score(y_true=y_test, y_pred=predictions)"
   ]
  },
  {
   "cell_type": "code",
   "execution_count": null,
   "metadata": {},
   "outputs": [],
   "source": [
    "clf = RandomForestClassifier()\n",
    "\n",
    "clf.fit(X_train, y_train)\n",
    "predictions = clf.predict(X_test)\n",
    "accuracy_score(y_true=y_test, y_pred=predictions)"
   ]
  },
  {
   "cell_type": "code",
   "execution_count": null,
   "metadata": {},
   "outputs": [],
   "source": [
    "clf = XGBClassifier()\n",
    "\n",
    "clf.fit(X_train, y_train)\n",
    "predictions = clf.predict(X_test)\n",
    "accuracy_score(y_true=y_test, y_pred=predictions)"
   ]
  },
  {
   "cell_type": "code",
   "execution_count": null,
   "metadata": {},
   "outputs": [],
   "source": [
    "\n",
    "brand = [67, 64.6,  65.3]\n",
    "brand_classsif = [\"LogisticRegression\", \"RandomForest\" ,\"XGB\"]\n",
    "\n",
    "plt.bar(brand_classsif, brand, color = [(30/255, 57/255, 240/255, 0.70) , (30/255, 57/255, 240/255, 0.60), (30/255, 57/255, 240/255, 0.55)])\n",
    "plt.ylim([0,100])\n",
    "plt.ylabel(\"accuracy\")\n",
    "\n",
    "plt.show()"
   ]
  },
  {
   "cell_type": "markdown",
   "metadata": {},
   "source": [
    "# brand"
   ]
  },
  {
   "cell_type": "code",
   "execution_count": null,
   "metadata": {},
   "outputs": [],
   "source": [
    "probing_df_brands = pd.read_csv(r'probing_tasks\\dataset\\train_brand_names.csv')"
   ]
  },
  {
   "cell_type": "code",
   "execution_count": null,
   "metadata": {},
   "outputs": [],
   "source": [
    "probing_df_brands = probing_df_brands.drop([\"id\"], axis=1)\n",
    "\n",
    "X, y = probing_df_brands.drop([\"label\"], axis=1), probing_df_brands[\"label\"]\n",
    "X_train, X_test, y_train, y_test = train_test_split(X, y, test_size=0.15)"
   ]
  },
  {
   "cell_type": "code",
   "execution_count": null,
   "metadata": {},
   "outputs": [],
   "source": [
    "clf = LogisticRegression(penalty=\"l1\", solver=\"liblinear\")\n",
    "\n",
    "clf.fit(X_train, y_train)\n",
    "predictions = clf.predict(X_test)\n",
    "accuracy_score(y_true=y_test, y_pred=predictions)"
   ]
  },
  {
   "cell_type": "code",
   "execution_count": null,
   "metadata": {},
   "outputs": [],
   "source": [
    "brand = [76.07, 72.00, 75.83]\n",
    "brand_classsif = [\"LogisticRegression\", \"RandomForest\" ,\"XGB\"]\n",
    "\n",
    "\n",
    "plt.bar(brand_classsif, brand, color = [(30/255, 57/255, 240/255) , (84/255, 117/255, 232/255), (68/255, 103/255, 227/255)])\n",
    "plt.ylim([0,100])\n",
    "plt.ylabel(\"accuracy\")\n",
    "\n",
    "plt.show()"
   ]
  },
  {
   "cell_type": "code",
   "execution_count": null,
   "metadata": {},
   "outputs": [],
   "source": [
    "clf = RandomForestClassifier()\n",
    "\n",
    "clf.fit(X_train, y_train)\n",
    "predictions = clf.predict(X_test)\n",
    "accuracy_score(y_true=y_test, y_pred=predictions)"
   ]
  },
  {
   "cell_type": "code",
   "execution_count": null,
   "metadata": {},
   "outputs": [],
   "source": [
    "clf = XGBClassifier()\n",
    "\n",
    "clf.fit(X_train, y_train)\n",
    "predictions = clf.predict(X_test)\n",
    "accuracy_score(y_true=y_test, y_pred=predictions)"
   ]
  },
  {
   "cell_type": "code",
   "execution_count": null,
   "metadata": {},
   "outputs": [],
   "source": [
    "probing_df_key_words = probing_df_words = pd.read_csv(r'probing_tasks\\dataset\\probing_df_key_words.csv')\n",
    "X, y = probing_df_key_words.drop([\"label\"], axis=1), probing_df_key_words[\"label\"]\n",
    "X_train, X_test, y_train, y_test = train_test_split(X, y, test_size=0.15)"
   ]
  },
  {
   "cell_type": "code",
   "execution_count": null,
   "metadata": {},
   "outputs": [],
   "source": [
    "clf = LogisticRegression(penalty=\"l1\", solver=\"liblinear\")\n",
    "\n",
    "clf.fit(X_train, y_train)\n",
    "predictions = clf.predict(X_test)\n",
    "accuracy_score(y_true=y_test, y_pred=predictions)"
   ]
  },
  {
   "cell_type": "code",
   "execution_count": null,
   "metadata": {},
   "outputs": [],
   "source": [
    "clf = XGBClassifier()\n",
    "\n",
    "clf.fit(X_train, y_train)\n",
    "predictions = clf.predict(X_test)\n",
    "accuracy_score(y_true=y_test, y_pred=predictions)"
   ]
  },
  {
   "cell_type": "code",
   "execution_count": null,
   "metadata": {},
   "outputs": [],
   "source": [
    "clf = RandomForestClassifier()\n",
    "\n",
    "clf.fit(X_train, y_train)\n",
    "predictions = clf.predict(X_test)\n",
    "accuracy_score(y_true=y_test, y_pred=predictions)"
   ]
  },
  {
   "cell_type": "code",
   "execution_count": null,
   "metadata": {},
   "outputs": [],
   "source": [
    "brand = [82.29, 77.03, 79.66]\n",
    "brand_classsif = [\"LogisticRegression\", \"RandomForest\" ,\"XGB\"]\n",
    "\n",
    "plt.bar(brand_classsif, brand, color = [(30/255, 57/255, 240/255) , (84/255, 117/255, 232/255), (68/255, 103/255, 227/255)])\n",
    "plt.ylim([0,100])\n",
    "plt.ylabel(\"accuracy\")\n",
    "\n",
    "plt.show()"
   ]
  },
  {
   "cell_type": "markdown",
   "metadata": {},
   "source": [
    "# Probing task: similarity"
   ]
  },
  {
   "cell_type": "code",
   "execution_count": null,
   "metadata": {},
   "outputs": [],
   "source": [
    "from os import path\n",
    "from config import TYPE, SIZE, EMBEDDING_PATH\n",
    "\n",
    "from source.load_data.wdc.load_wdc_dataset import EnglishDatasetLoader\n",
    "from source.utils.levenshtein_distance import compute_lev_dist_for_pairs\n",
    "from source.emb_extr_res.emb_extr_res import get_embeddings_df\n",
    "from source.utils.visualization import plot_histogram\n",
    "from source.probing.similarity_pairs_probing.get_data import get_pair_similarity_probing_task_df\n",
    "\n",
    "import pandas as pd\n",
    "import numpy as np\n"
   ]
  },
  {
   "cell_type": "markdown",
   "metadata": {},
   "source": [
    "### a) similarity of offers used in training (training set) "
   ]
  },
  {
   "cell_type": "markdown",
   "metadata": {},
   "source": [
    "Loading training dataset"
   ]
  },
  {
   "cell_type": "code",
   "execution_count": null,
   "metadata": {},
   "outputs": [],
   "source": [
    "df_train = EnglishDatasetLoader.load_train(type=TYPE, size=SIZE)"
   ]
  },
  {
   "cell_type": "markdown",
   "metadata": {},
   "source": [
    "Computing Levenshtein Distance for each pair - a new target variable for this probing task"
   ]
  },
  {
   "cell_type": "code",
   "execution_count": null,
   "metadata": {},
   "outputs": [],
   "source": [
    "df_train['label'] = compute_lev_dist_for_pairs(df_train)"
   ]
  },
  {
   "cell_type": "markdown",
   "metadata": {},
   "source": [
    "Choosing the best bins for discretization of the new target variable - similarity score of each pair"
   ]
  },
  {
   "cell_type": "code",
   "execution_count": null,
   "metadata": {},
   "outputs": [
    {
     "data": {
      "image/png": "[encoded data removed]",
      "text/plain": [
       "<Figure size 432x288 with 1 Axes>"
      ]
     },
     "metadata": {},
     "output_type": "display_data"
    }
   ],
   "source": [
    "plot_histogram(df_train['label'].values, bins='auto')"
   ]
  },
  {
   "cell_type": "code",
   "execution_count": null,
   "metadata": {},
   "outputs": [
    {
     "data": {
      "image/png": "[encoded data removed]",
      "text/plain": [
       "<Figure size 432x288 with 1 Axes>"
      ]
     },
     "metadata": {},
     "output_type": "display_data"
    }
   ],
   "source": [
    "bins = [0, 20, 40, 60, 80, 1000]\n",
    "plot_histogram(df_train['label'].values, bins=bins)"
   ]
  },
  {
   "cell_type": "markdown",
   "metadata": {},
   "source": [
    "Discretize the target variable"
   ]
  },
  {
   "cell_type": "code",
   "execution_count": null,
   "metadata": {},
   "outputs": [
    {
     "data": {
      "text/plain": [
       "0       3\n",
       "1       2\n",
       "2       0\n",
       "3       3\n",
       "4       2\n",
       "       ..\n",
       "5250    2\n",
       "5251    2\n",
       "5252    1\n",
       "5253    1\n",
       "5254    2\n",
       "Name: label, Length: 5255, dtype: category\n",
       "Categories (5, int64): [0 < 1 < 2 < 3 < 4]"
      ]
     },
     "metadata": {},
     "output_type": "display_data"
    }
   ],
   "source": [
    "df_train['label'] = pd.cut(x=df_train['label'], bins=bins, labels=[0, 1, 2, 3, 4])\n",
    "df_train['label']"
   ]
  },
  {
   "cell_type": "markdown",
   "metadata": {},
   "source": [
    "Get embeddings result data frame:"
   ]
  },
  {
   "cell_type": "code",
   "execution_count": null,
   "metadata": {},
   "outputs": [],
   "source": [
    "train_embeddings_path = path.join(EMBEDDING_PATH, r'train_embeddings.csv')\n",
    "embedding_train_df = get_embeddings_df(train_embeddings_path)"
   ]
  },
  {
   "cell_type": "code",
   "execution_count": null,
   "metadata": {},
   "outputs": [],
   "source": [
    "train_dataset = get_pair_similarity_probing_task_df(df_train, embedding_train_df)"
   ]
  },
  {
   "cell_type": "code",
   "execution_count": null,
   "metadata": {},
   "outputs": [
    {
     "data": {
      "text/html": [
       "<div>\n",
       "<style scoped>\n",
       "    .dataframe tbody tr th:only-of-type {\n",
       "        vertical-align: middle;\n",
       "    }\n",
       "\n",
       "    .dataframe tbody tr th {\n",
       "        vertical-align: top;\n",
       "    }\n",
       "\n",
       "    .dataframe thead th {\n",
       "        text-align: right;\n",
       "    }\n",
       "</style>\n",
       "<table border=\"1\" class=\"dataframe\">\n",
       "  <thead>\n",
       "    <tr style=\"text-align: right;\">\n",
       "      <th></th>\n",
       "      <th>label</th>\n",
       "      <th>left_id</th>\n",
       "      <th>left_0</th>\n",
       "      <th>left_1</th>\n",
       "      <th>left_2</th>\n",
       "      <th>left_3</th>\n",
       "      <th>left_4</th>\n",
       "      <th>left_5</th>\n",
       "      <th>left_6</th>\n",
       "      <th>left_7</th>\n",
       "      <th>...</th>\n",
       "      <th>right_758</th>\n",
       "      <th>right_759</th>\n",
       "      <th>right_760</th>\n",
       "      <th>right_761</th>\n",
       "      <th>right_762</th>\n",
       "      <th>right_763</th>\n",
       "      <th>right_764</th>\n",
       "      <th>right_765</th>\n",
       "      <th>right_766</th>\n",
       "      <th>right_767</th>\n",
       "    </tr>\n",
       "  </thead>\n",
       "  <tbody>\n",
       "    <tr>\n",
       "      <th>0</th>\n",
       "      <td>3</td>\n",
       "      <td>12939297</td>\n",
       "      <td>-0.149791</td>\n",
       "      <td>1.071217</td>\n",
       "      <td>0.187230</td>\n",
       "      <td>-0.139591</td>\n",
       "      <td>-0.807871</td>\n",
       "      <td>-0.046871</td>\n",
       "      <td>-0.418031</td>\n",
       "      <td>-0.100208</td>\n",
       "      <td>...</td>\n",
       "      <td>0.797846</td>\n",
       "      <td>-0.080050</td>\n",
       "      <td>-0.185518</td>\n",
       "      <td>0.397698</td>\n",
       "      <td>-0.138480</td>\n",
       "      <td>-1.232638</td>\n",
       "      <td>-0.162692</td>\n",
       "      <td>0.073755</td>\n",
       "      <td>0.053071</td>\n",
       "      <td>-1.146569</td>\n",
       "    </tr>\n",
       "    <tr>\n",
       "      <th>2</th>\n",
       "      <td>2</td>\n",
       "      <td>17100990</td>\n",
       "      <td>-0.047905</td>\n",
       "      <td>1.216980</td>\n",
       "      <td>0.245378</td>\n",
       "      <td>-0.004205</td>\n",
       "      <td>-0.797601</td>\n",
       "      <td>0.002864</td>\n",
       "      <td>-0.316836</td>\n",
       "      <td>-0.107791</td>\n",
       "      <td>...</td>\n",
       "      <td>0.897925</td>\n",
       "      <td>-0.188297</td>\n",
       "      <td>-0.243057</td>\n",
       "      <td>0.478510</td>\n",
       "      <td>-0.081364</td>\n",
       "      <td>-1.289565</td>\n",
       "      <td>0.149673</td>\n",
       "      <td>0.150715</td>\n",
       "      <td>0.095488</td>\n",
       "      <td>-1.226075</td>\n",
       "    </tr>\n",
       "    <tr>\n",
       "      <th>3</th>\n",
       "      <td>1</td>\n",
       "      <td>17100990</td>\n",
       "      <td>-0.047905</td>\n",
       "      <td>1.216980</td>\n",
       "      <td>0.245378</td>\n",
       "      <td>-0.004205</td>\n",
       "      <td>-0.797601</td>\n",
       "      <td>0.002864</td>\n",
       "      <td>-0.316836</td>\n",
       "      <td>-0.107791</td>\n",
       "      <td>...</td>\n",
       "      <td>0.368393</td>\n",
       "      <td>0.189557</td>\n",
       "      <td>-0.478091</td>\n",
       "      <td>-0.293820</td>\n",
       "      <td>-0.887781</td>\n",
       "      <td>0.900259</td>\n",
       "      <td>0.227131</td>\n",
       "      <td>0.367114</td>\n",
       "      <td>0.561405</td>\n",
       "      <td>-0.056190</td>\n",
       "    </tr>\n",
       "    <tr>\n",
       "      <th>4</th>\n",
       "      <td>0</td>\n",
       "      <td>16638707</td>\n",
       "      <td>0.067015</td>\n",
       "      <td>-0.674859</td>\n",
       "      <td>0.512917</td>\n",
       "      <td>-0.328953</td>\n",
       "      <td>-0.683486</td>\n",
       "      <td>-0.473680</td>\n",
       "      <td>0.242210</td>\n",
       "      <td>-0.825564</td>\n",
       "      <td>...</td>\n",
       "      <td>0.368393</td>\n",
       "      <td>0.189557</td>\n",
       "      <td>-0.478091</td>\n",
       "      <td>-0.293820</td>\n",
       "      <td>-0.887781</td>\n",
       "      <td>0.900259</td>\n",
       "      <td>0.227131</td>\n",
       "      <td>0.367114</td>\n",
       "      <td>0.561405</td>\n",
       "      <td>-0.056190</td>\n",
       "    </tr>\n",
       "    <tr>\n",
       "      <th>5</th>\n",
       "      <td>4</td>\n",
       "      <td>8030713</td>\n",
       "      <td>-0.648637</td>\n",
       "      <td>-0.043288</td>\n",
       "      <td>0.583120</td>\n",
       "      <td>-0.672200</td>\n",
       "      <td>-0.752488</td>\n",
       "      <td>-0.265190</td>\n",
       "      <td>-0.026415</td>\n",
       "      <td>-0.275188</td>\n",
       "      <td>...</td>\n",
       "      <td>0.368393</td>\n",
       "      <td>0.189557</td>\n",
       "      <td>-0.478091</td>\n",
       "      <td>-0.293820</td>\n",
       "      <td>-0.887781</td>\n",
       "      <td>0.900259</td>\n",
       "      <td>0.227131</td>\n",
       "      <td>0.367114</td>\n",
       "      <td>0.561405</td>\n",
       "      <td>-0.056190</td>\n",
       "    </tr>\n",
       "  </tbody>\n",
       "</table>\n",
       "<p>5 rows × 1539 columns</p>\n",
       "</div>"
      ],
      "text/plain": [
       "  label   left_id    left_0    left_1    left_2    left_3    left_4    left_5  \\\n",
       "0     3  12939297 -0.149791  1.071217  0.187230 -0.139591 -0.807871 -0.046871   \n",
       "2     2  17100990 -0.047905  1.216980  0.245378 -0.004205 -0.797601  0.002864   \n",
       "3     1  17100990 -0.047905  1.216980  0.245378 -0.004205 -0.797601  0.002864   \n",
       "4     0  16638707  0.067015 -0.674859  0.512917 -0.328953 -0.683486 -0.473680   \n",
       "5     4   8030713 -0.648637 -0.043288  0.583120 -0.672200 -0.752488 -0.265190   \n",
       "\n",
       "     left_6    left_7  ...  right_758  right_759  right_760  right_761  \\\n",
       "0 -0.418031 -0.100208  ...   0.797846  -0.080050  -0.185518   0.397698   \n",
       "2 -0.316836 -0.107791  ...   0.897925  -0.188297  -0.243057   0.478510   \n",
       "3 -0.316836 -0.107791  ...   0.368393   0.189557  -0.478091  -0.293820   \n",
       "4  0.242210 -0.825564  ...   0.368393   0.189557  -0.478091  -0.293820   \n",
       "5 -0.026415 -0.275188  ...   0.368393   0.189557  -0.478091  -0.293820   \n",
       "\n",
       "   right_762  right_763  right_764  right_765  right_766  right_767  \n",
       "0  -0.138480  -1.232638  -0.162692   0.073755   0.053071  -1.146569  \n",
       "2  -0.081364  -1.289565   0.149673   0.150715   0.095488  -1.226075  \n",
       "3  -0.887781   0.900259   0.227131   0.367114   0.561405  -0.056190  \n",
       "4  -0.887781   0.900259   0.227131   0.367114   0.561405  -0.056190  \n",
       "5  -0.887781   0.900259   0.227131   0.367114   0.561405  -0.056190  \n",
       "\n",
       "[5 rows x 1539 columns]"
      ]
     },
     "metadata": {},
     "output_type": "display_data"
    }
   ],
   "source": [
    "train_dataset.head()"
   ]
  },
  {
   "cell_type": "markdown",
   "metadata": {},
   "source": [
    "***\n"
   ]
  },
  {
   "cell_type": "markdown",
   "metadata": {},
   "source": [
    "### b) similarity of offers not used in training (test set) "
   ]
  },
  {
   "cell_type": "markdown",
   "metadata": {},
   "source": [
    "Loading training dataset"
   ]
  },
  {
   "cell_type": "code",
   "execution_count": null,
   "metadata": {},
   "outputs": [],
   "source": [
    "df_test = EnglishDatasetLoader.load_test(type=TYPE)"
   ]
  },
  {
   "cell_type": "markdown",
   "metadata": {},
   "source": [
    "Computing Levenshtein Distance for each pair - a new target variable for this probing task"
   ]
  },
  {
   "cell_type": "code",
   "execution_count": null,
   "metadata": {},
   "outputs": [],
   "source": [
    "df_test['label'] = compute_lev_dist_for_pairs(df_test)"
   ]
  },
  {
   "cell_type": "markdown",
   "metadata": {},
   "source": [
    "Choosing the best bins for discretization of the new target variable - similarity score of each pair"
   ]
  },
  {
   "cell_type": "code",
   "execution_count": null,
   "metadata": {},
   "outputs": [
    {
     "data": {
      "image/png": "[encoded data removed]",
      "text/plain": [
       "<Figure size 432x288 with 1 Axes>"
      ]
     },
     "metadata": {},
     "output_type": "display_data"
    }
   ],
   "source": [
    "plot_histogram(df_test['label'].values, bins='auto')"
   ]
  },
  {
   "cell_type": "code",
   "execution_count": null,
   "metadata": {},
   "outputs": [
    {
     "data": {
      "image/png": "[encoded data removed]",
      "text/plain": [
       "<Figure size 432x288 with 1 Axes>"
      ]
     },
     "metadata": {},
     "output_type": "display_data"
    }
   ],
   "source": [
    "bins = [0, 20, 40, 60, 80, 1000]\n",
    "plot_histogram(df_test['label'].values, bins=bins)"
   ]
  },
  {
   "cell_type": "markdown",
   "metadata": {},
   "source": [
    "Discretize the target variable"
   ]
  },
  {
   "cell_type": "code",
   "execution_count": null,
   "metadata": {},
   "outputs": [
    {
     "data": {
      "text/plain": [
       "0       0\n",
       "1       1\n",
       "2       1\n",
       "3       1\n",
       "4       1\n",
       "       ..\n",
       "1095    2\n",
       "1096    3\n",
       "1097    3\n",
       "1098    3\n",
       "1099    1\n",
       "Name: label, Length: 1100, dtype: category\n",
       "Categories (5, int64): [0 < 1 < 2 < 3 < 4]"
      ]
     },
     "metadata": {},
     "output_type": "display_data"
    }
   ],
   "source": [
    "df_test['label'] = pd.cut(x=df_test['label'], bins=bins, labels=[0, 1, 2, 3, 4])\n",
    "df_test['label']"
   ]
  },
  {
   "cell_type": "markdown",
   "metadata": {},
   "source": [
    "Get embeddings result data frame:"
   ]
  },
  {
   "cell_type": "code",
   "execution_count": null,
   "metadata": {},
   "outputs": [],
   "source": [
    "test_embeddings_path = path.join(EMBEDDING_PATH, r'test_embeddings.csv')\n",
    "embedding_test_df = get_embeddings_df(test_embeddings_path)"
   ]
  },
  {
   "cell_type": "code",
   "execution_count": null,
   "metadata": {},
   "outputs": [
    {
     "data": {
      "text/html": [
       "<div>\n",
       "<style scoped>\n",
       "    .dataframe tbody tr th:only-of-type {\n",
       "        vertical-align: middle;\n",
       "    }\n",
       "\n",
       "    .dataframe tbody tr th {\n",
       "        vertical-align: top;\n",
       "    }\n",
       "\n",
       "    .dataframe thead th {\n",
       "        text-align: right;\n",
       "    }\n",
       "</style>\n",
       "<table border=\"1\" class=\"dataframe\">\n",
       "  <thead>\n",
       "    <tr style=\"text-align: right;\">\n",
       "      <th></th>\n",
       "      <th>label</th>\n",
       "      <th>left_id</th>\n",
       "      <th>left_0</th>\n",
       "      <th>left_1</th>\n",
       "      <th>left_2</th>\n",
       "      <th>left_3</th>\n",
       "      <th>left_4</th>\n",
       "      <th>left_5</th>\n",
       "      <th>left_6</th>\n",
       "      <th>left_7</th>\n",
       "      <th>...</th>\n",
       "      <th>right_758</th>\n",
       "      <th>right_759</th>\n",
       "      <th>right_760</th>\n",
       "      <th>right_761</th>\n",
       "      <th>right_762</th>\n",
       "      <th>right_763</th>\n",
       "      <th>right_764</th>\n",
       "      <th>right_765</th>\n",
       "      <th>right_766</th>\n",
       "      <th>right_767</th>\n",
       "    </tr>\n",
       "  </thead>\n",
       "  <tbody>\n",
       "    <tr>\n",
       "      <th>0</th>\n",
       "      <td>0</td>\n",
       "      <td>8571506</td>\n",
       "      <td>0.550398</td>\n",
       "      <td>-0.526154</td>\n",
       "      <td>0.082125</td>\n",
       "      <td>0.444099</td>\n",
       "      <td>0.053268</td>\n",
       "      <td>-0.345504</td>\n",
       "      <td>-0.084409</td>\n",
       "      <td>0.096725</td>\n",
       "      <td>...</td>\n",
       "      <td>0.300989</td>\n",
       "      <td>0.605257</td>\n",
       "      <td>-0.031447</td>\n",
       "      <td>0.055329</td>\n",
       "      <td>0.581134</td>\n",
       "      <td>-0.562669</td>\n",
       "      <td>-0.185219</td>\n",
       "      <td>-0.150309</td>\n",
       "      <td>0.547994</td>\n",
       "      <td>0.673631</td>\n",
       "    </tr>\n",
       "    <tr>\n",
       "      <th>2</th>\n",
       "      <td>1</td>\n",
       "      <td>8571506</td>\n",
       "      <td>0.550398</td>\n",
       "      <td>-0.526154</td>\n",
       "      <td>0.082125</td>\n",
       "      <td>0.444099</td>\n",
       "      <td>0.053268</td>\n",
       "      <td>-0.345504</td>\n",
       "      <td>-0.084409</td>\n",
       "      <td>0.096725</td>\n",
       "      <td>...</td>\n",
       "      <td>-0.567429</td>\n",
       "      <td>0.363189</td>\n",
       "      <td>-0.289208</td>\n",
       "      <td>-0.063081</td>\n",
       "      <td>-0.901390</td>\n",
       "      <td>-0.405271</td>\n",
       "      <td>0.049443</td>\n",
       "      <td>0.515929</td>\n",
       "      <td>-0.140260</td>\n",
       "      <td>-0.624937</td>\n",
       "    </tr>\n",
       "    <tr>\n",
       "      <th>3</th>\n",
       "      <td>1</td>\n",
       "      <td>8571506</td>\n",
       "      <td>0.550398</td>\n",
       "      <td>-0.526154</td>\n",
       "      <td>0.082125</td>\n",
       "      <td>0.444099</td>\n",
       "      <td>0.053268</td>\n",
       "      <td>-0.345504</td>\n",
       "      <td>-0.084409</td>\n",
       "      <td>0.096725</td>\n",
       "      <td>...</td>\n",
       "      <td>-1.015687</td>\n",
       "      <td>-0.076606</td>\n",
       "      <td>-0.227819</td>\n",
       "      <td>-0.420046</td>\n",
       "      <td>-0.208214</td>\n",
       "      <td>-0.679192</td>\n",
       "      <td>0.195318</td>\n",
       "      <td>-0.276532</td>\n",
       "      <td>-0.493191</td>\n",
       "      <td>-0.406144</td>\n",
       "    </tr>\n",
       "    <tr>\n",
       "      <th>4</th>\n",
       "      <td>1</td>\n",
       "      <td>11809928</td>\n",
       "      <td>-0.302815</td>\n",
       "      <td>-0.326458</td>\n",
       "      <td>-0.213350</td>\n",
       "      <td>0.392424</td>\n",
       "      <td>-0.177313</td>\n",
       "      <td>0.885198</td>\n",
       "      <td>0.045655</td>\n",
       "      <td>0.018103</td>\n",
       "      <td>...</td>\n",
       "      <td>-1.015687</td>\n",
       "      <td>-0.076606</td>\n",
       "      <td>-0.227819</td>\n",
       "      <td>-0.420046</td>\n",
       "      <td>-0.208214</td>\n",
       "      <td>-0.679192</td>\n",
       "      <td>0.195318</td>\n",
       "      <td>-0.276532</td>\n",
       "      <td>-0.493191</td>\n",
       "      <td>-0.406144</td>\n",
       "    </tr>\n",
       "    <tr>\n",
       "      <th>5</th>\n",
       "      <td>1</td>\n",
       "      <td>8571506</td>\n",
       "      <td>0.550398</td>\n",
       "      <td>-0.526154</td>\n",
       "      <td>0.082125</td>\n",
       "      <td>0.444099</td>\n",
       "      <td>0.053268</td>\n",
       "      <td>-0.345504</td>\n",
       "      <td>-0.084409</td>\n",
       "      <td>0.096725</td>\n",
       "      <td>...</td>\n",
       "      <td>0.367300</td>\n",
       "      <td>0.102650</td>\n",
       "      <td>-0.348079</td>\n",
       "      <td>-0.934553</td>\n",
       "      <td>-0.089702</td>\n",
       "      <td>-0.820126</td>\n",
       "      <td>0.130514</td>\n",
       "      <td>1.331819</td>\n",
       "      <td>0.021485</td>\n",
       "      <td>-0.814547</td>\n",
       "    </tr>\n",
       "  </tbody>\n",
       "</table>\n",
       "<p>5 rows × 1539 columns</p>\n",
       "</div>"
      ],
      "text/plain": [
       "  label   left_id    left_0    left_1    left_2    left_3    left_4    left_5  \\\n",
       "0     0   8571506  0.550398 -0.526154  0.082125  0.444099  0.053268 -0.345504   \n",
       "2     1   8571506  0.550398 -0.526154  0.082125  0.444099  0.053268 -0.345504   \n",
       "3     1   8571506  0.550398 -0.526154  0.082125  0.444099  0.053268 -0.345504   \n",
       "4     1  11809928 -0.302815 -0.326458 -0.213350  0.392424 -0.177313  0.885198   \n",
       "5     1   8571506  0.550398 -0.526154  0.082125  0.444099  0.053268 -0.345504   \n",
       "\n",
       "     left_6    left_7  ...  right_758  right_759  right_760  right_761  \\\n",
       "0 -0.084409  0.096725  ...   0.300989   0.605257  -0.031447   0.055329   \n",
       "2 -0.084409  0.096725  ...  -0.567429   0.363189  -0.289208  -0.063081   \n",
       "3 -0.084409  0.096725  ...  -1.015687  -0.076606  -0.227819  -0.420046   \n",
       "4  0.045655  0.018103  ...  -1.015687  -0.076606  -0.227819  -0.420046   \n",
       "5 -0.084409  0.096725  ...   0.367300   0.102650  -0.348079  -0.934553   \n",
       "\n",
       "   right_762  right_763  right_764  right_765  right_766  right_767  \n",
       "0   0.581134  -0.562669  -0.185219  -0.150309   0.547994   0.673631  \n",
       "2  -0.901390  -0.405271   0.049443   0.515929  -0.140260  -0.624937  \n",
       "3  -0.208214  -0.679192   0.195318  -0.276532  -0.493191  -0.406144  \n",
       "4  -0.208214  -0.679192   0.195318  -0.276532  -0.493191  -0.406144  \n",
       "5  -0.089702  -0.820126   0.130514   1.331819   0.021485  -0.814547  \n",
       "\n",
       "[5 rows x 1539 columns]"
      ]
     },
     "metadata": {},
     "output_type": "display_data"
    }
   ],
   "source": [
    "test_dataset = get_pair_similarity_probing_task_df(df_test, embedding_test_df)\n",
    "test_dataset.head()"
   ]
  },
  {
   "cell_type": "markdown",
   "metadata": {},
   "source": [
    "modeling "
   ]
  },
  {
   "cell_type": "code",
   "execution_count": null,
   "metadata": {},
   "outputs": [],
   "source": [
    "from source.utils.probing_tasks_utils import *"
   ]
  },
  {
   "cell_type": "code",
   "execution_count": null,
   "metadata": {},
   "outputs": [],
   "source": [
    "test_dataset = test_dataset.drop(725, axis=0)"
   ]
  },
  {
   "cell_type": "code",
   "execution_count": null,
   "metadata": {},
   "outputs": [
    {
     "name": "stdout",
     "output_type": "stream",
     "text": [
      "Accuracy: 0.37522768670309653, f_score: 0.2937548397967106\n"
     ]
    }
   ],
   "source": [
    "clf = RandomForestClassifier()\n",
    "pred_rf, acc_rf, f_score_rf = test_probing_task(train_dataset, test_dataset, clf)"
   ]
  },
  {
   "cell_type": "code",
   "execution_count": null,
   "metadata": {},
   "outputs": [
    {
     "name": "stdout",
     "output_type": "stream",
     "text": [
      "Accuracy: 0.33515482695810567, f_score: 0.1004092769440655\n"
     ]
    }
   ],
   "source": [
    "clf = LogisticRegression(\n",
    "        multi_class=\"multinomial\", random_state=42, penalty=\"l1\", solver=\"saga\"\n",
    "    )\n",
    "pred_lr, acc_lr, f_score_lr = test_probing_task(train_dataset, test_dataset, clf)"
   ]
  },
  {
   "cell_type": "code",
   "execution_count": null,
   "metadata": {},
   "outputs": [
    {
     "name": "stdout",
     "output_type": "stream",
     "text": [
      "Accuracy: 0.39617486338797814, f_score: 0.34009842724412576\n"
     ]
    }
   ],
   "source": [
    "clf = XGBClassifier()\n",
    "pred_lr, acc_lr, f_score_lr = test_probing_task(train_dataset, test_dataset, clf)"
   ]
  },
  {
   "cell_type": "markdown",
   "metadata": {},
   "source": [
    "# SIMILARITIES"
   ]
  },
  {
   "cell_type": "code",
   "execution_count": null,
   "metadata": {},
   "outputs": [],
   "source": [
    "train_df = EnglishDatasetLoader.load_train(dataset_type, dataset_size)\n",
    "res = train_df[[\"id_left\", \"id_right\", \"label\"]]\n",
    "res = res.rename({\"id_left\" : \"left_id\", \"id_right\":\"right_id\"}, axis = 1)\n",
    "\n",
    "sim_train_df = get_pairs_similarity_df(train_similarity_path)\n",
    "sim_train_df[\"right_id\"] = pd.to_numeric(sim_train_df[\"right_id\"])\n",
    "sim_train_df[\"left_id\"] = pd.to_numeric(sim_train_df[\"left_id\"])\n",
    "sim_df = pd.merge(res, sim_train_df, on =  [\"left_id\", \"right_id\"])"
   ]
  },
  {
   "cell_type": "code",
   "execution_count": null,
   "metadata": {},
   "outputs": [],
   "source": [
    "sns.histplot(sim_df[\"cosine_score\"][sim_df['label']==0], color = \"blue\", label = \"label = 0\")\n",
    "sns.histplot(sim_df[\"cosine_score\"][sim_df['label']==1], color = \"orange\", alpha = 0.5, label = \"label = 1\")\n",
    "plt.legend()\n",
    "plt.title(\"\")\n",
    "plt.show()"
   ]
  }
 ],
 "metadata": {
  "kernelspec": {
   "display_name": "Python 3 (ipykernel)",
   "language": "python",
   "name": "python3"
  },
  "language_info": {
   "codemirror_mode": {
    "name": "ipython",
    "version": 3
   },
   "file_extension": ".py",
   "mimetype": "text/x-python",
   "name": "python",
   "nbconvert_exporter": "python",
   "pygments_lexer": "ipython3",
   "version": "3.10.9"
  },
  "vscode": {
   "interpreter": {
    "hash": "b90b5480b90dfd82255d68efb607ef96370ef33575f247c89a0b81cbaa1e7b55"
   }
  }
 },
 "nbformat": 4,
 "nbformat_minor": 2
}
